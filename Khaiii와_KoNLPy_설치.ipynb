{
  "nbformat": 4,
  "nbformat_minor": 0,
  "metadata": {
    "colab": {
      "name": "Khaiii와 KoNLPy 설치.ipynb",
      "private_outputs": true,
      "provenance": [],
      "collapsed_sections": [],
      "authorship_tag": "ABX9TyM715jiC2/Bj1sXVu9mMHcc",
      "include_colab_link": true
    },
    "kernelspec": {
      "name": "python3",
      "display_name": "Python 3"
    }
  },
  "cells": [
    {
      "cell_type": "markdown",
      "metadata": {
        "id": "view-in-github",
        "colab_type": "text"
      },
      "source": [
        "<a href=\"https://colab.research.google.com/github/dudwn98/iipl_topic_modeling/blob/main/Khaiii%EC%99%80_KoNLPy_%EC%84%A4%EC%B9%98.ipynb\" target=\"_parent\"><img src=\"https://colab.research.google.com/assets/colab-badge.svg\" alt=\"Open In Colab\"/></a>"
      ]
    },
    {
      "cell_type": "code",
      "metadata": {
        "id": "7FAFknrdDNTg"
      },
      "source": [
        "!sudo apt-get install -y fonts-nanum\r\n",
        "!sudo fc-cache -fv\r\n",
        "!rm ~/.cache/matplotlib -rf"
      ],
      "execution_count": null,
      "outputs": []
    },
    {
      "cell_type": "code",
      "metadata": {
        "id": "rFQj4Ktol5A5"
      },
      "source": [
        "!git clone https://github.com/kakao/khaiii.git"
      ],
      "execution_count": null,
      "outputs": []
    },
    {
      "cell_type": "code",
      "metadata": {
        "id": "x9CHak-jl-7D"
      },
      "source": [
        "!pip install cmake"
      ],
      "execution_count": null,
      "outputs": []
    },
    {
      "cell_type": "code",
      "metadata": {
        "id": "9fNqCYk1mABi"
      },
      "source": [
        "!mkdir build\r\n",
        "!cd build && cmake /content/khaiii\r\n",
        "!cd /content/build/ && make all\r\n",
        "!cd /content/build/ && make resource\r\n",
        "!cd /content/build && make install\r\n",
        "!cd /content/build && make package_python\r\n",
        "!pip install /content/build/package_python"
      ],
      "execution_count": null,
      "outputs": []
    },
    {
      "cell_type": "code",
      "metadata": {
        "id": "fOKSWLklmfAf"
      },
      "source": [
        "pip install konlpy"
      ],
      "execution_count": null,
      "outputs": []
    },
    {
      "cell_type": "code",
      "metadata": {
        "id": "vu1DgBA9nKi9"
      },
      "source": [
        "# Import modules\r\n",
        "import os\r\n",
        "import pickle\r\n",
        "import itertools\r\n",
        "import numpy as np\r\n",
        "import pandas as pd\r\n",
        "from collections import Counter\r\n",
        "\r\n",
        "# NLP modules\r\n",
        "from konlpy.tag import Mecab, Okt\r\n",
        "from khaiii import khaiii\r\n",
        "\r\n",
        "# Visualization modules\r\n",
        "import seaborn as sns\r\n",
        "import matplotlib.pyplot as plt\r\n",
        "from wordcloud import WordCloud\r\n",
        "\r\n",
        "# Factor Analysis (PCA)\r\n",
        "from sklearn.decomposition import PCA\r\n",
        "\r\n",
        "# ANOVA modules\r\n",
        "from statsmodels.formula.api import ols\r\n",
        "from statsmodels.stats.anova import anova_lm\r\n",
        "\r\n",
        "# Chi square test\r\n",
        "from scipy.stats import chi2_contingency\r\n",
        "\r\n",
        "# Visualization setting\r\n",
        "sns.set(style=\"ticks\", palette=\"Set1\")\r\n",
        "plt.rcParams[\"font.family\"] = 'NanumGothic'"
      ],
      "execution_count": null,
      "outputs": []
    },
    {
      "cell_type": "code",
      "metadata": {
        "id": "mPUVnaz-w2Bv"
      },
      "source": [
        "#Read Data\r\n",
        "original_dat = pd.read_csv('/content/data/results_crawl.csv')\r\n",
        "\r\n",
        "original_dat.values"
      ],
      "execution_count": null,
      "outputs": []
    },
    {
      "cell_type": "code",
      "metadata": {
        "id": "fQe4DQs5uIfC"
      },
      "source": [
        "!git clone https://github.com/SOMJANG/Mecab-ko-for-Google-Colab.git"
      ],
      "execution_count": null,
      "outputs": []
    },
    {
      "cell_type": "code",
      "metadata": {
        "id": "fB84giAtwD-Z"
      },
      "source": [
        "!bash install_mecab-ko_on_colab190912.sh"
      ],
      "execution_count": null,
      "outputs": []
    },
    {
      "cell_type": "code",
      "metadata": {
        "id": "rL4ipg2GpjWm"
      },
      "source": [
        "okt = Okt()\r\n",
        "mecab = Mecab()\r\n",
        "khaiii_api = khaiii.KhaiiiApi()\r\n",
        "\r\n",
        "main_topic = original_dat['title'].tolist()"
      ],
      "execution_count": null,
      "outputs": []
    },
    {
      "cell_type": "code",
      "metadata": {
        "id": "kDUN27PjuEoh"
      },
      "source": [
        "def khaiii_nouns(api, sentence):\r\n",
        "    sentence_list = list()\r\n",
        "    try:\r\n",
        "        for parsed_words in api.analyze(sentence):\r\n",
        "            for seg in parsed_words.morphs:\r\n",
        "                if seg.tag[0] == 'N':\r\n",
        "                    sentence_list.append(seg.lex)\r\n",
        "    except:\r\n",
        "        sentence_list = list()\r\n",
        "    return sentence_list\r\n",
        "\r\n",
        "def khaiii_morphs(api, sentence):\r\n",
        "    sentence_list = list()\r\n",
        "    try:\r\n",
        "        for parsed_words in api.analyze(sentence):\r\n",
        "            for seg in parsed_words.morphs:\r\n",
        "                sentence_list.append(seg.lex)\r\n",
        "    except:\r\n",
        "        sentence_list = list()\r\n",
        "    return sentence_list\r\n",
        "\r\n",
        "def top_k_words(counter, p):\r\n",
        "    top_list = list()\r\n",
        "    for k, v in counter.items():\r\n",
        "        if v >= np.quantile(list(counter.values()), (1-p)):\r\n",
        "            top_list.append((k, v))\r\n",
        "    return top_list"
      ],
      "execution_count": null,
      "outputs": []
    },
    {
      "cell_type": "code",
      "metadata": {
        "id": "S51XwXk9yZ4x"
      },
      "source": [
        "main_topic_morphs = list(itertools.chain(*[okt.morphs(x) for x in main_topic]))\r\n",
        "main_topic_morphs_khaiii = list(itertools.chain(*[khaiii_morphs(khaiii_api, x) for x in main_topic]))\r\n",
        "main_topic_nouns = list(itertools.chain(*[okt.morphs(x) for x in main_topic]))\r\n",
        "main_topic_nouns_khaiii = list(itertools.chain(*[khaiii_nouns(khaiii_api, x) for x in main_topic]))"
      ],
      "execution_count": null,
      "outputs": []
    },
    {
      "cell_type": "code",
      "metadata": {
        "id": "yw3n4iFfy_Ws"
      },
      "source": [
        "main_counter = Counter()\r\n",
        "main_counter.update(main_topic_nouns_khaiii)\r\n",
        "\r\n",
        "main_top_list = top_k_words(main_counter, 0.1)"
      ],
      "execution_count": null,
      "outputs": []
    },
    {
      "cell_type": "code",
      "metadata": {
        "id": "OTQZpIZjz9V4"
      },
      "source": [
        "print('품사 태깅 결과')\r\n",
        "print('KoNLPy POS Tagging:')\r\n",
        "print(okt.pos(main_topic[3]))\r\n",
        "print('-'*100)\r\n",
        "print()\r\n",
        "\r\n",
        "print('Khaiii POS Tagging:')\r\n",
        "for word in khaiii_api.analyze(main_topic[3]):\r\n",
        "    print(word)"
      ],
      "execution_count": null,
      "outputs": []
    },
    {
      "cell_type": "code",
      "metadata": {
        "id": "taeDG5Bf1JCf"
      },
      "source": [
        "wordcloud = WordCloud(\r\n",
        "    font_path = '/usr/share/fonts/truetype/nanum/NanumGothic.ttf',\r\n",
        "    width = 700,\r\n",
        "    height = 700,\r\n",
        "    background_color=\"white\",\r\n",
        ")\r\n",
        "\r\n",
        "wordcloud = wordcloud.generate_from_frequencies({k: v for k, v in main_top_list})\r\n",
        "plt.figure(figsize=(8, 8))\r\n",
        "plt.title('주요 단어 빈도 Wordcloud \\n', size=30)\r\n",
        "plt.imshow(wordcloud, interpolation=\"bilinear\")\r\n",
        "plt.axis(\"off\")\r\n",
        "plt.show()"
      ],
      "execution_count": null,
      "outputs": []
    },
    {
      "cell_type": "code",
      "metadata": {
        "id": "wJ_40_OOAe-9"
      },
      "source": [
        ""
      ],
      "execution_count": null,
      "outputs": []
    }
  ]
}